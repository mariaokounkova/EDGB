{
 "cells": [
  {
   "cell_type": "code",
   "execution_count": 2,
   "metadata": {},
   "outputs": [],
   "source": [
    "import matplotlib.pyplot as plt\n",
    "import numpy as np\n",
    "import h5py\n",
    "import matplotlib \n",
    "\n",
    "# Plot parameters\n",
    "matplotlib.rcParams['mathtext.fontset'] = 'stix'\n",
    "matplotlib.rcParams['font.family'] = 'STIXGeneral'\n",
    "matplotlib.rc('text', usetex=True)\n",
    "matplotlib.rcParams['axes.labelsize'] = 24\n",
    "matplotlib.rcParams['xtick.labelsize'] = 30\n",
    "matplotlib.rcParams['ytick.labelsize'] = 30\n",
    "matplotlib.rcParams['xtick.major.size'] = 20\n",
    "matplotlib.rcParams['ytick.major.size'] = 20\n",
    "matplotlib.rcParams['xtick.top'] = True\n",
    "matplotlib.rcParams['xtick.direction'] = 'in'\n",
    "matplotlib.rcParams['xtick.minor.visible'] = True\n",
    "matplotlib.rcParams['xtick.minor.size'] = 10\n",
    "matplotlib.rcParams['ytick.minor.size'] = 10\n",
    "matplotlib.rcParams['legend.fontsize'] = 18\n",
    "matplotlib.rcParams['legend.frameon'] = True\n",
    "matplotlib.rcParams['lines.linewidth'] = 3"
   ]
  },
  {
   "cell_type": "markdown",
   "metadata": {},
   "source": [
    "# Reading in the mathematica solution"
   ]
  },
  {
   "cell_type": "code",
   "execution_count": 8,
   "metadata": {},
   "outputs": [],
   "source": [
    "## Solutions to look at\n",
    "Spheres = [str(i) for i in range(1)]\n",
    "Spins = ['0.1']"
   ]
  },
  {
   "cell_type": "code",
   "execution_count": 7,
   "metadata": {},
   "outputs": [
    {
     "data": {
      "image/png": "[encoded data removed]",
      "text/plain": [
       "<Figure size 432x432 with 2 Axes>"
      ]
     },
     "metadata": {
      "needs_background": "light"
     },
     "output_type": "display_data"
    }
   ],
   "source": [
    "## Now read in the data we have plotted\n",
    "Spin = '0.1'\n",
    "xx = []\n",
    "zz = []\n",
    "sol = []\n",
    "for sphere in Spheres:\n",
    "    X, Z, Solution = np.loadtxt(\"ScalarField/Theta\"+Spin+\"/Vars_Sphere\"+sphere+\".dat\", usecols=(0, 1, 2), unpack=True)\n",
    "    Solution = Solution*-1.0\n",
    "    xx.extend(X)\n",
    "    zz.extend(Z)\n",
    "    sol.extend(Solution)\n",
    "plt.figure(figsize=(6,6))\n",
    "plt.scatter(xx,zz,c=sol,cmap='seismic')\n",
    "plt.xlabel(r'$x/M$')\n",
    "plt.ylabel(r'$z/M$')\n",
    "cbar = plt.colorbar()\n",
    "cbar.ax.tick_params(labelsize=10) \n",
    "plt.tight_layout()\n",
    "plt.show()"
   ]
  },
  {
   "cell_type": "markdown",
   "metadata": {},
   "source": [
    "# Writing the data to SpEC style h5 file"
   ]
  },
  {
   "cell_type": "code",
   "execution_count": 12,
   "metadata": {
    "scrolled": false
   },
   "outputs": [],
   "source": [
    "for spin in Spins:\n",
    "    for sphere in Spheres:\n",
    "        InFile = \"Domains/Domain\"+spin+\"/Vars_Sphere\"+sphere+\".h5\"\n",
    "        OutFile = \"ScalarField/Theta\"+spin+\"/Vars_Sphere\"+sphere+\".h5\"\n",
    "\n",
    "        fIn = h5py.File(InFile,'r')\n",
    "        fOut = h5py.File(OutFile, \"w\")\n",
    "\n",
    "\n",
    "        ## Setting file attributes\n",
    "        for att in fIn.attrs.keys():\n",
    "            fOut.attrs[att] = fIn.attrs[att]\n",
    "\n",
    "        ## Setting the Extents, TensorDim, TensorSymm, and Time attributes\n",
    "        grpName = \"Field/Step000000\"\n",
    "        grp = fOut.create_group(grpName)\n",
    "        for att in fIn[\"X/Step000000\"].attrs.keys():\n",
    "            fOut[grpName].attrs[att] = fIn[\"X/Step000000\"].attrs[att]\n",
    "\n",
    "        ## Now filling in the data\n",
    "        f = h5py.File(OutFile, 'r+')\n",
    "        grp = f[grpName]\n",
    "        ## Going to take care of the other factors in the code\n",
    "        ## The interaction terms between the two papers differ by a sign \n",
    "        ## -- see Eq. 4 in 1407.2350 (Leo) and Eq. 18.b in 1705.07924 (Masha)\n",
    "        ######Solution = -4.0*np.loadtxt(\"MathematicaH5Tests/LeoSolutions/Vars_Sphere\"+sphere+\".dat\", \\\n",
    "        ## usecols=(2), unpack=True)\n",
    "        Solution = np.loadtxt(\"ScalarField/Theta\"+spin+\"/Vars_Sphere\"+sphere+\".dat\", usecols=(2), unpack=True)\n",
    "        ## Solution also needs a factor of 8 - see\n",
    "        ## Eq. 21 in (Leo) and Eq. 22 in (Masha)\n",
    "        ## Note that going from Eq. 18 to Eq. 22 in (Leo) really shows the factor of 8 - whatever solution\n",
    "        ## to this equation we get, we have to multiply by 8 \n",
    "        ######Solution = 8.0*Solution\n",
    "        dataset = grp.create_dataset(\"scalar\", (len(Solution),), dtype='f')\n",
    "        dataset[...] = Solution\n",
    "\n",
    "        f.close()\n",
    "        fIn.close()\n",
    "        fOut.close()\n"
   ]
  },
  {
   "cell_type": "code",
   "execution_count": null,
   "metadata": {},
   "outputs": [],
   "source": []
  }
 ],
 "metadata": {
  "kernelspec": {
   "display_name": "Python 3",
   "language": "python",
   "name": "python3"
  },
  "language_info": {
   "codemirror_mode": {
    "name": "ipython",
    "version": 3
   },
   "file_extension": ".py",
   "mimetype": "text/x-python",
   "name": "python",
   "nbconvert_exporter": "python",
   "pygments_lexer": "ipython3",
   "version": "3.7.4"
  }
 },
 "nbformat": 4,
 "nbformat_minor": 1
}
